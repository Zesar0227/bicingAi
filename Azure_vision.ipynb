{
  "nbformat": 4,
  "nbformat_minor": 0,
  "metadata": {
    "colab": {
      "provenance": []
    },
    "kernelspec": {
      "name": "python3",
      "display_name": "Python 3"
    },
    "language_info": {
      "name": "python"
    }
  },
  "cells": [
    {
      "cell_type": "code",
      "source": [
        "pip install google-api-python-client google-auth-httplib2 google-auth-oauthlib azure-cognitiveservices-vision-computervision"
      ],
      "metadata": {
        "colab": {
          "base_uri": "https://localhost:8080/"
        },
        "id": "lUHT-ZV54h-c",
        "outputId": "045b3250-7ffd-4c66-e853-156f066db038"
      },
      "execution_count": null,
      "outputs": [
        {
          "output_type": "stream",
          "name": "stdout",
          "text": [
            "Requirement already satisfied: google-api-python-client in /usr/local/lib/python3.11/dist-packages (2.160.0)\n",
            "Requirement already satisfied: google-auth-httplib2 in /usr/local/lib/python3.11/dist-packages (0.2.0)\n",
            "Requirement already satisfied: google-auth-oauthlib in /usr/local/lib/python3.11/dist-packages (1.2.1)\n",
            "Collecting azure-cognitiveservices-vision-computervision\n",
            "  Downloading azure_cognitiveservices_vision_computervision-0.9.1-py2.py3-none-any.whl.metadata (9.4 kB)\n",
            "Requirement already satisfied: httplib2<1.dev0,>=0.19.0 in /usr/local/lib/python3.11/dist-packages (from google-api-python-client) (0.22.0)\n",
            "Requirement already satisfied: google-auth!=2.24.0,!=2.25.0,<3.0.0.dev0,>=1.32.0 in /usr/local/lib/python3.11/dist-packages (from google-api-python-client) (2.27.0)\n",
            "Requirement already satisfied: google-api-core!=2.0.*,!=2.1.*,!=2.2.*,!=2.3.0,<3.0.0.dev0,>=1.31.5 in /usr/local/lib/python3.11/dist-packages (from google-api-python-client) (2.19.2)\n",
            "Requirement already satisfied: uritemplate<5,>=3.0.1 in /usr/local/lib/python3.11/dist-packages (from google-api-python-client) (4.1.1)\n",
            "Requirement already satisfied: requests-oauthlib>=0.7.0 in /usr/local/lib/python3.11/dist-packages (from google-auth-oauthlib) (2.0.0)\n",
            "Collecting msrest>=0.6.21 (from azure-cognitiveservices-vision-computervision)\n",
            "  Downloading msrest-0.7.1-py3-none-any.whl.metadata (21 kB)\n",
            "Collecting azure-common~=1.1 (from azure-cognitiveservices-vision-computervision)\n",
            "  Downloading azure_common-1.1.28-py2.py3-none-any.whl.metadata (5.0 kB)\n",
            "Requirement already satisfied: googleapis-common-protos<2.0.dev0,>=1.56.2 in /usr/local/lib/python3.11/dist-packages (from google-api-core!=2.0.*,!=2.1.*,!=2.2.*,!=2.3.0,<3.0.0.dev0,>=1.31.5->google-api-python-client) (1.66.0)\n",
            "Requirement already satisfied: protobuf!=3.20.0,!=3.20.1,!=4.21.0,!=4.21.1,!=4.21.2,!=4.21.3,!=4.21.4,!=4.21.5,<6.0.0.dev0,>=3.19.5 in /usr/local/lib/python3.11/dist-packages (from google-api-core!=2.0.*,!=2.1.*,!=2.2.*,!=2.3.0,<3.0.0.dev0,>=1.31.5->google-api-python-client) (4.25.6)\n",
            "Requirement already satisfied: proto-plus<2.0.0dev,>=1.22.3 in /usr/local/lib/python3.11/dist-packages (from google-api-core!=2.0.*,!=2.1.*,!=2.2.*,!=2.3.0,<3.0.0.dev0,>=1.31.5->google-api-python-client) (1.26.0)\n",
            "Requirement already satisfied: requests<3.0.0.dev0,>=2.18.0 in /usr/local/lib/python3.11/dist-packages (from google-api-core!=2.0.*,!=2.1.*,!=2.2.*,!=2.3.0,<3.0.0.dev0,>=1.31.5->google-api-python-client) (2.32.3)\n",
            "Requirement already satisfied: cachetools<6.0,>=2.0.0 in /usr/local/lib/python3.11/dist-packages (from google-auth!=2.24.0,!=2.25.0,<3.0.0.dev0,>=1.32.0->google-api-python-client) (5.5.1)\n",
            "Requirement already satisfied: pyasn1-modules>=0.2.1 in /usr/local/lib/python3.11/dist-packages (from google-auth!=2.24.0,!=2.25.0,<3.0.0.dev0,>=1.32.0->google-api-python-client) (0.4.1)\n",
            "Requirement already satisfied: rsa<5,>=3.1.4 in /usr/local/lib/python3.11/dist-packages (from google-auth!=2.24.0,!=2.25.0,<3.0.0.dev0,>=1.32.0->google-api-python-client) (4.9)\n",
            "Requirement already satisfied: pyparsing!=3.0.0,!=3.0.1,!=3.0.2,!=3.0.3,<4,>=2.4.2 in /usr/local/lib/python3.11/dist-packages (from httplib2<1.dev0,>=0.19.0->google-api-python-client) (3.2.1)\n",
            "Collecting azure-core>=1.24.0 (from msrest>=0.6.21->azure-cognitiveservices-vision-computervision)\n",
            "  Downloading azure_core-1.32.0-py3-none-any.whl.metadata (39 kB)\n",
            "Requirement already satisfied: certifi>=2017.4.17 in /usr/local/lib/python3.11/dist-packages (from msrest>=0.6.21->azure-cognitiveservices-vision-computervision) (2025.1.31)\n",
            "Collecting isodate>=0.6.0 (from msrest>=0.6.21->azure-cognitiveservices-vision-computervision)\n",
            "  Downloading isodate-0.7.2-py3-none-any.whl.metadata (11 kB)\n",
            "Requirement already satisfied: oauthlib>=3.0.0 in /usr/local/lib/python3.11/dist-packages (from requests-oauthlib>=0.7.0->google-auth-oauthlib) (3.2.2)\n",
            "Requirement already satisfied: six>=1.11.0 in /usr/local/lib/python3.11/dist-packages (from azure-core>=1.24.0->msrest>=0.6.21->azure-cognitiveservices-vision-computervision) (1.17.0)\n",
            "Requirement already satisfied: typing-extensions>=4.6.0 in /usr/local/lib/python3.11/dist-packages (from azure-core>=1.24.0->msrest>=0.6.21->azure-cognitiveservices-vision-computervision) (4.12.2)\n",
            "Requirement already satisfied: pyasn1<0.7.0,>=0.4.6 in /usr/local/lib/python3.11/dist-packages (from pyasn1-modules>=0.2.1->google-auth!=2.24.0,!=2.25.0,<3.0.0.dev0,>=1.32.0->google-api-python-client) (0.6.1)\n",
            "Requirement already satisfied: charset-normalizer<4,>=2 in /usr/local/lib/python3.11/dist-packages (from requests<3.0.0.dev0,>=2.18.0->google-api-core!=2.0.*,!=2.1.*,!=2.2.*,!=2.3.0,<3.0.0.dev0,>=1.31.5->google-api-python-client) (3.4.1)\n",
            "Requirement already satisfied: idna<4,>=2.5 in /usr/local/lib/python3.11/dist-packages (from requests<3.0.0.dev0,>=2.18.0->google-api-core!=2.0.*,!=2.1.*,!=2.2.*,!=2.3.0,<3.0.0.dev0,>=1.31.5->google-api-python-client) (3.10)\n",
            "Requirement already satisfied: urllib3<3,>=1.21.1 in /usr/local/lib/python3.11/dist-packages (from requests<3.0.0.dev0,>=2.18.0->google-api-core!=2.0.*,!=2.1.*,!=2.2.*,!=2.3.0,<3.0.0.dev0,>=1.31.5->google-api-python-client) (2.3.0)\n",
            "Downloading azure_cognitiveservices_vision_computervision-0.9.1-py2.py3-none-any.whl (36 kB)\n",
            "Downloading azure_common-1.1.28-py2.py3-none-any.whl (14 kB)\n",
            "Downloading msrest-0.7.1-py3-none-any.whl (85 kB)\n",
            "\u001b[2K   \u001b[90m━━━━━━━━━━━━━━━━━━━━━━━━━━━━━━━━━━━━━━━━\u001b[0m \u001b[32m85.4/85.4 kB\u001b[0m \u001b[31m1.4 MB/s\u001b[0m eta \u001b[36m0:00:00\u001b[0m\n",
            "\u001b[?25hDownloading azure_core-1.32.0-py3-none-any.whl (198 kB)\n",
            "\u001b[2K   \u001b[90m━━━━━━━━━━━━━━━━━━━━━━━━━━━━━━━━━━━━━━━━\u001b[0m \u001b[32m198.9/198.9 kB\u001b[0m \u001b[31m7.1 MB/s\u001b[0m eta \u001b[36m0:00:00\u001b[0m\n",
            "\u001b[?25hDownloading isodate-0.7.2-py3-none-any.whl (22 kB)\n",
            "Installing collected packages: azure-common, isodate, azure-core, msrest, azure-cognitiveservices-vision-computervision\n",
            "Successfully installed azure-cognitiveservices-vision-computervision-0.9.1 azure-common-1.1.28 azure-core-1.32.0 isodate-0.7.2 msrest-0.7.1\n"
          ]
        }
      ]
    },
    {
      "cell_type": "code",
      "source": [
        "from google.colab import drive\n",
        "from azure.cognitiveservices.vision.computervision import ComputerVisionClient\n",
        "from azure.cognitiveservices.vision.computervision.models import VisualFeatureTypes\n",
        "from msrest.authentication import CognitiveServicesCredentials\n",
        "import os\n",
        "import numpy as np\n",
        "from PIL import Image\n",
        "import io\n",
        "import csv\n",
        "\n",
        "# Montar Google Drive\n",
        "drive.mount('/content/drive')"
      ],
      "metadata": {
        "colab": {
          "base_uri": "https://localhost:8080/"
        },
        "id": "4-K9XWol42HO",
        "outputId": "1ba9f93d-8430-4b80-a5fc-fbfa7c90f4c5"
      },
      "execution_count": null,
      "outputs": [
        {
          "output_type": "stream",
          "name": "stdout",
          "text": [
            "Mounted at /content/drive\n"
          ]
        }
      ]
    },
    {
      "cell_type": "code",
      "source": [
        "# Configuración de Azure Computer Vision API\n",
        "subscription_key = \"5VScBomj0F99NCHIUveba920ULiJzElLv3BBQerUQMvRwbkdPyssJQQJ99BAACYeBjFXJ3w3AAAFACOGE5hR\" #Enter a valid key\n",
        "endpoint = \"https://prueba-vision.cognitiveservices.azure.com/\" #Enter a endpoint\n",
        "computervision_client = ComputerVisionClient(endpoint, CognitiveServicesCredentials(subscription_key))\n",
        "\n",
        "# Rutas a las carpetas en Google Drive (después de montar)\n",
        "carpeta_origen = '/content/drive/MyDrive/Proyecto EOI/Fotos/Fotos a tratar'\n",
        "carpeta_destino = '/content/drive/MyDrive/Proyecto EOI/Fotos/Fotos tratadas'\n",
        "csv_file = '/content/drive/MyDrive/Proyecto EOI/Fotos/analisis_imagenes.csv'\n",
        "\n",
        "# Inicializar el archivo CSV (si no existe)\n",
        "def initialize_csv():\n",
        "    if not os.path.exists(csv_file):\n",
        "        with open(csv_file, mode='w', newline='', encoding='utf-8') as file:\n",
        "            writer = csv.writer(file)\n",
        "            writer.writerow([\"Nombre de archivo\", \"URL de Imagen\", \"Número de bicicletas\", \"Descripción\", \"Modelo bicicletas\",])\n",
        "initialize_csv()\n",
        "\n",
        "def analizar_imagen(ruta_imagen):\n",
        "    \"\"\"Analiza una imagen, detecta bicicletas y su estado y guarda la informacion en CSV.\"\"\"\n",
        "\n",
        "    try:\n",
        "        # Abrir la imagen con Pillow\n",
        "        img = Image.open(ruta_imagen)\n",
        "\n",
        "        # Redimensionar la imagen si es demasiado grande\n",
        "        max_dimension = 1024\n",
        "        if img.width > max_dimension or img.height > max_dimension:\n",
        "            img.thumbnail((max_dimension, max_dimension))\n",
        "\n",
        "        # Guardar la imagen redimensionada en un buffer in-memory\n",
        "        buffered = io.BytesIO()\n",
        "        img.save(buffered, format=img.format)\n",
        "        buffered.seek(0)\n",
        "\n",
        "        # Analizar la imagen con Azure Computer Vision (usar el buffer)\n",
        "        image_analysis = computervision_client.analyze_image_in_stream(\n",
        "            buffered, visual_features=[VisualFeatureTypes.objects, VisualFeatureTypes.description]\n",
        "        )\n",
        "        descripcion = image_analysis.description.captions[0].text if image_analysis.description.captions else \"No hay descripción disponible\"\n",
        "    except Exception as e:\n",
        "        print(f\"Error al procesar la imagen {ruta_imagen}: {e}\")\n",
        "        return\n",
        "\n",
        "    # Contar bicicletas\n",
        "    bicicletas = [obj for obj in image_analysis.objects if obj.object_property == \"bicycle\"]\n",
        "    num_bicicletas = len(bicicletas)\n",
        "\n",
        "\n",
        "    modelos_similares = \"No se pudo determinar\"\n",
        "    # Intentar determinar si son iguales (heurística simple)\n",
        "    if num_bicicletas > 1:\n",
        "        rectangulos = [obj.rectangle for obj in bicicletas]\n",
        "        areas = [(r.w * r.h) for r in rectangulos]\n",
        "        desviacion_estandar = np.std(areas)\n",
        "        if desviacion_estandar < 0.7 * np.mean(areas) :\n",
        "             modelos_similares = \"Las bicicletas parecen ser del mismo modelo.\"\n",
        "        else:\n",
        "             modelos_similares = \"Las bicicletas parecen ser de diferentes modelos.\"\n",
        "    elif num_bicicletas == 1:\n",
        "        modelos_similares = \"Solo hay un modelo de bicicleta detectada.\"\n",
        "    else:\n",
        "        modelos_similares = \"No se detectaron bicicletas.\"\n",
        "\n",
        "    # Mover la imagen\n",
        "    nombre_archivo = os.path.basename(ruta_imagen)\n",
        "    nueva_ruta = os.path.join(carpeta_destino, nombre_archivo)\n",
        "    os.rename(ruta_imagen, nueva_ruta)\n",
        "\n",
        "    # Guardar la información en el CSV\n",
        "    with open(csv_file, mode='a', newline='', encoding='utf-8') as file:\n",
        "        writer = csv.writer(file)\n",
        "        writer.writerow([nombre_archivo, nueva_ruta, num_bicicletas, descripcion, modelos_similares])\n",
        "\n",
        "    print(f'Analisis imagen: {nombre_archivo}, numero de bicis: {num_bicicletas}, descripcion: {descripcion}, modelos: {modelos_similares}')\n",
        "\n",
        "\n",
        "\n",
        "# Iterar sobre las imágenes en la carpeta de origen\n",
        "for filename in os.listdir(carpeta_origen):\n",
        "    if filename.lower().endswith(('.png', '.jpg', '.jpeg', '.gif', '.bmp')):\n",
        "        ruta_imagen = os.path.join(carpeta_origen, filename)\n",
        "        print(f'Analizando imagen: {filename}')\n",
        "        analizar_imagen(ruta_imagen)\n",
        "\n",
        "print(\"Análisis completado. Los datos se han guardado en:\", csv_file)"
      ],
      "metadata": {
        "colab": {
          "base_uri": "https://localhost:8080/"
        },
        "id": "PsEZ_5winQU4",
        "outputId": "9b3802e2-1e72-4ccc-f601-fc6cd126c4e2"
      },
      "execution_count": null,
      "outputs": [
        {
          "output_type": "stream",
          "name": "stdout",
          "text": [
            "Analizando imagen: descarga (3) - Zésar Vidal.jpg\n",
            "Analisis imagen: descarga (3) - Zésar Vidal.jpg, numero de bicis: 2, descripcion: a man and woman riding a bicycle, modelos: Las bicicletas parecen ser del mismo modelo.\n",
            "Analizando imagen: descarga (2) - Zésar Vidal.jpg\n",
            "Analisis imagen: descarga (2) - Zésar Vidal.jpg, numero de bicis: 1, descripcion: a bicycle parked on the side of a road, modelos: Solo hay un modelo de bicicleta detectada.\n",
            "Analizando imagen: descarga (1) - Zésar Vidal.jpg\n",
            "Analisis imagen: descarga (1) - Zésar Vidal.jpg, numero de bicis: 1, descripcion: a person riding a bicycle, modelos: Solo hay un modelo de bicicleta detectada.\n",
            "Análisis completado. Los datos se han guardado en: /content/drive/MyDrive/Proyecto EOI/Fotos/analisis_imagenes.csv\n"
          ]
        }
      ]
    }
  ]
}